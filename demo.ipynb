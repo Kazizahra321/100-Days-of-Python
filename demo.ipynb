{
 "cells": [
  {
   "cell_type": "code",
   "execution_count": null,
   "id": "52498cdc",
   "metadata": {},
   "outputs": [
    {
     "name": "stdout",
     "output_type": "stream",
     "text": [
      "hello world\n"
     ]
    }
   ],
   "source": [
    "#Exercise 1: Hello World\n",
    "print(\"hello world\")"
   ]
  },
  {
   "cell_type": "code",
   "execution_count": 2,
   "id": "47cce1ca",
   "metadata": {},
   "outputs": [
    {
     "name": "stdout",
     "output_type": "stream",
     "text": [
      "15 is smaller than 60\n"
     ]
    }
   ],
   "source": [
    "if 5<-2:\n",
    "    print(\"5 is greater than -2\")\n",
    "print(\"15 is smaller than 60\")"
   ]
  },
  {
   "cell_type": "code",
   "execution_count": 3,
   "id": "8dddacba",
   "metadata": {},
   "outputs": [
    {
     "name": "stdout",
     "output_type": "stream",
     "text": [
      "yess\n",
      "5 is greater than 2\n"
     ]
    }
   ],
   "source": [
    "if 5>2:\n",
    "    print(\"yess\")\n",
    "\n",
    "if 5>2:\n",
    "    print(\"5 is greater than 2\")\n"
   ]
  },
  {
   "cell_type": "code",
   "execution_count": 4,
   "id": "c7b7afcc",
   "metadata": {},
   "outputs": [
    {
     "name": "stdout",
     "output_type": "stream",
     "text": [
      "hello \n",
      "world\n",
      "hello \tworld\n"
     ]
    }
   ],
   "source": [
    "#escape sequence characters\n",
    "print(\"hello \\nworld\") #newline\n",
    "print(\"hello \\tworld\") #tab "
   ]
  },
  {
   "cell_type": "code",
   "execution_count": null,
   "id": "af649c68",
   "metadata": {},
   "outputs": [
    {
     "name": "stdout",
     "output_type": "stream",
     "text": [
      "hello world\n"
     ]
    }
   ],
   "source": [
    "#for single line comment\n",
    "print(\"hello world\") #single line comment\n",
    "# control+/ for multi line comment and uncomment\n",
    "# \"\"\" this also a multi line comment \"\"\""
   ]
  },
  {
   "cell_type": "code",
   "execution_count": null,
   "id": "911b7ee5",
   "metadata": {},
   "outputs": [
    {
     "name": "stdout",
     "output_type": "stream",
     "text": [
      "1234557\n",
      "Mary\n",
      "<class 'int'>   <class 'str'>   <class 'bool'>   <class 'complex'>   \t <class 'float'>   <class 'complex'>   <class 'NoneType'>\n"
     ]
    }
   ],
   "source": [
    "#Exercise 2: Escape Sequence Characters and data types\n",
    "\n",
    "#Escape sequence characters\n",
    "#Data types : To store different types of data in memory\n",
    "a= 1234557\n",
    "print(a)\n",
    "b= \"Mary\"\n",
    "print(b)\n",
    "c= True\n",
    "d= 2+4j\n",
    "e= 1.23\n",
    "#or \n",
    "f=complex(2,4)\n",
    "g = None\n",
    "#print(a + b)   we can't concatinate different datatypes\n",
    "#How to know what is datatype\n",
    "print(type(a),\" \", type(b),\" \", type(c),\" \", type(d),\" \",\"\\t\",type(e),\" \",type(f),\" \",type(g))"
   ]
  },
  {
   "cell_type": "code",
   "execution_count": 7,
   "id": "002e8d6f",
   "metadata": {},
   "outputs": [
    {
     "name": "stdout",
     "output_type": "stream",
     "text": [
      "This is List:  [2, 4.5, 'c', 'Apricot', [1, 4, 66]] <class 'list'>\n"
     ]
    }
   ],
   "source": [
    "#Sequenced DataTypes\n",
    "#1) List: Collection of different types of  data elements or list of items\n",
    "list1 = [2,4.5,'c',\"Apricot\",[1, 4, 66] ]\n",
    "print(\"This is List: \",list1, type(list1) )\n"
   ]
  },
  {
   "cell_type": "code",
   "execution_count": null,
   "id": "b59c7106",
   "metadata": {},
   "outputs": [
    {
     "name": "stdout",
     "output_type": "stream",
     "text": [
      "This is Tuple:  (2, 4.5, 'c', 'Mulberry', [1, 4, 66]) <class 'tuple'>\n"
     ]
    }
   ],
   "source": [
    "# 2)Immutable Collection of different datatypes\n",
    "\n",
    "tuple1 = (2,4.5,'c',\"Mulberry\",[1, 4, 66])\n",
    "print(\"This is Tuple: \",tuple1, type(tuple1) )"
   ]
  },
  {
   "cell_type": "code",
   "execution_count": 9,
   "id": "b6492401",
   "metadata": {},
   "outputs": [
    {
     "name": "stdout",
     "output_type": "stream",
     "text": [
      "This is dict1:  {'name': 'Sakshi', 'age': 24, 'canVote': True} <class 'dict'>\n"
     ]
    }
   ],
   "source": [
    "# 3) Dictionary is a may data-type  collection of key-value pairs\n",
    "dict1 = {\"name\":\"Sakshi\", \"age\":24, \"canVote\":True}\n",
    "print(\"This is dict1: \",dict1, type(dict1) )"
   ]
  },
  {
   "cell_type": "code",
   "execution_count": null,
   "id": "8aa1a0bc",
   "metadata": {},
   "outputs": [
    {
     "name": "stdout",
     "output_type": "stream",
     "text": [
      "Addition:  58\n",
      "Subtraction:  64\n",
      "Multiplication:  100\n",
      "Division:  7.0\n",
      "Moduls:  2\n",
      "Exponent:  8\n",
      "Floor Division:  1\n"
     ]
    }
   ],
   "source": [
    "#Exercise 3: Operators in Python\n",
    "#Operators are used to perform operations on variables and values\n",
    "#Operators in Python\n",
    "print(\"Addition: \",56+2)\n",
    "print(\"Subtraction: \",68-4)\n",
    "print(\"Multiplication: \",25*4)\n",
    "print(\"Division: \",35/5)\n",
    "print(\"Moduls: \",7%5)\n",
    "print(\"Exponent: \",2**3)\n",
    "print(\"Floor Division: \",7//5)"
   ]
  },
  {
   "cell_type": "code",
   "execution_count": null,
   "id": "0b978cd7",
   "metadata": {},
   "outputs": [
    {
     "name": "stdout",
     "output_type": "stream",
     "text": [
      "Enter first number: \n",
      "Enter second number: \n",
      "Enter operator: \n",
      "125\n"
     ]
    }
   ],
   "source": [
    "#Exercise 4: operators in python example\n",
    "#Arithmetic Operators\n",
    "#create a calculator in pythom\n",
    "print(\"Enter first number: \")\n",
    "num1 = int(input())\n",
    "print(\"Enter second number: \")\n",
    "num2 = int(input())     \n",
    "print(\"Enter operator: \")\n",
    "operator = input()\n",
    "if operator == '+':\n",
    "    print(num1 + num2)  \n",
    "elif operator == '-':\n",
    "    print(num1 - num2)\n",
    "elif operator == '*':\n",
    "    print(num1 * num2)\n",
    "elif operator == '/':\n",
    "    print(num1 / num2)\n",
    "elif operator == '%':\n",
    "    print(num1 % num2)\n",
    "elif operator == '**':\n",
    "    print(num1 ** num2)\n",
    "elif operator == '//':\n",
    "    print(num1 // num2)\n",
    "else:\n",
    "    print(\"Invalid operator\") \n",
    "\n"
   ]
  },
  {
   "cell_type": "code",
   "execution_count": 1,
   "id": "23d4ca4a",
   "metadata": {},
   "outputs": [
    {
     "name": "stdout",
     "output_type": "stream",
     "text": [
      "fruit is apple or banana\n",
      "fruit is not banana\n"
     ]
    }
   ],
   "source": [
    "#Exercise 5: Comparison Operators\n",
    "#Comparison Operators\n",
    "# Comparison operators are used to compare two values\n",
    "# They return a boolean value (True or False)\n",
    "# Comparison operators are used to compare two values\n",
    "# ==  Equal to\n",
    "# !=  Not equal to\n",
    "# >   Greater than\n",
    "#   <   Less than\n",
    "# >=  Greater than or equal to\n",
    "# <=  Less than or equal to\n",
    "# is  Identity operator\n",
    "# is not  Identity operator\n",
    "# in  Membership operator\n",
    "# not in  Membership operator\n",
    "# isinstance()  Type checking operator\n",
    "\n",
    "#Exercise 6: Logical Operators\n",
    "#Logical Operators\n",
    "# Logical operators are used to combine two or more conditions\n",
    "# They return a boolean value (True or False)\n",
    "# Logical operators are used to combine two or more conditions\n",
    "# and  Logical AND\n",
    "# or  Logical OR\n",
    "# not  Logical NOT\n",
    "\n",
    "#Examole:\n",
    "fruit = \"apple\"\n",
    "if fruit == \"apple\" and fruit == \"banana\":\n",
    "    print(\"fruit is apple and banana\")  \n",
    "elif fruit == \"apple\" or fruit == \"banana\":\n",
    "    print(\"fruit is apple or banana\")\n",
    "else:\n",
    "    print(\"fruit is not apple or banana\")\n",
    "# not operator\n",
    "fruit = \"apple\"\n",
    "if not fruit == \"banana\":\n",
    "    print(\"fruit is not banana\")\n",
    "\n"
   ]
  },
  {
   "cell_type": "code",
   "execution_count": 2,
   "id": "a5793b4d",
   "metadata": {},
   "outputs": [
    {
     "name": "stdout",
     "output_type": "stream",
     "text": [
      "False\n",
      "True\n",
      "True\n",
      "False\n",
      "True\n",
      "False\n",
      "False\n",
      "True\n"
     ]
    }
   ],
   "source": [
    "#Exercise 7: Identity Operators\n",
    "#Identity Operators\n",
    "# Identity operators are used to compare the memory location of two objects\n",
    "# They return a boolean value (True or False)\n",
    "\n",
    "# Identity operators are used to compare the memory location of two objects\n",
    "# is  Identity operator\n",
    "# is not  Identity operator\n",
    "#Example:\n",
    "a = [1, 2, 3]\n",
    "b = [1, 2, 3]\n",
    "c = a\n",
    "print(a is b)  # False\n",
    "print(a is c)  # True\n",
    "print(a is not b)  # True\n",
    "print(a is not c)  # False\n",
    "#Exercise 8: Membership Operators\n",
    "#Membership Operators\n",
    "# Membership operators are used to test if a value is a member of a sequence (string, list, tuple, set, dictionary)\n",
    "# They return a boolean value (True or False)\n",
    "# Membership operators are used to test if a value is a member of a sequence (string, list, tuple, set, dictionary)\n",
    "# in  Membership operator\n",
    "# not in  Membership operator\n",
    "#Example:\n",
    "a = [1, 2, 3]\n",
    "b = [1, 2, 3]\n",
    "print(1 in a)  # True\n",
    "print(4 in a)  # False\n",
    "print(1 not in a)  # False\n",
    "print(4 not in a)  # True"
   ]
  },
  {
   "cell_type": "code",
   "execution_count": null,
   "id": "8f185d5d",
   "metadata": {},
   "outputs": [
    {
     "name": "stdout",
     "output_type": "stream",
     "text": [
      "Explicit typecasting\n",
      "7\n",
      "7.5\n",
      "15\n",
      "510\n",
      "Implicit typecasting\n",
      "15.5 <class 'int'> <class 'float'> <class 'float'>\n"
     ]
    }
   ],
   "source": [
    "##Exercise 9: Typecasting\n",
    "#Typecasting\n",
    "#Explicit typecasting\n",
    "print(\"Explicit typecasting\")\n",
    "a = 5\n",
    "b = 2.5\n",
    "c = \"10\"\n",
    "print(a + int(b)) #5+2 = 7\n",
    "print(a + float(b)) #5+2.5 = 7.5\n",
    "print(a + int(c)) #5+10 = 15\n",
    "print(str(a) + c) #5+10 = 510\n",
    "\n",
    "#Implicit typecasting\n",
    "print(\"Implicit typecasting\")\n",
    "a= 5\n",
    "b= 10.5\n",
    "c=a+b\n",
    "print(c,type(a),type(b),type(c))"
   ]
  },
  {
   "cell_type": "code",
   "execution_count": null,
   "id": "c9389d65",
   "metadata": {},
   "outputs": [
    {
     "name": "stdout",
     "output_type": "stream",
     "text": [
      "String slicing\n",
      "H\n",
      "Hello\n",
      "Hlo\n",
      "ar\n"
     ]
    }
   ],
   "source": [
    "#Exercise 10: String Formatting\n",
    "#String Formatting\n",
    "#String formatting is used to format the string\n",
    "# It is used to format the string in a specific way\n",
    "#String slicing \n",
    "print(\"String slicing\")\n",
    "str1 = \"Hello World\"\n",
    "print(str1[0]) #H\n",
    "print(str1[0:5]) #Hello\n",
    "print(str1[0:5:2]) #Hlo\n",
    "m= \"Harry\"\n",
    "print(m[-4:-2]) #len(m)-4:len(m)-2 i.e m[(5-4):(5-2)] i.e m[1:3]\n",
    "\n",
    "\n",
    "\n"
   ]
  },
  {
   "cell_type": "code",
   "execution_count": 3,
   "id": "8ad995bb",
   "metadata": {},
   "outputs": [
    {
     "name": "stdout",
     "output_type": "stream",
     "text": [
      "10\n",
      "ZAHRA !!!!\n",
      "zahra !!!!\n",
      "zahra \n",
      "ahra !!!!\n",
      "ahra !!!!\n",
      "0\n",
      "0\n",
      "zahra Kazi\n",
      "['zahra', '!!!!']\n",
      "Zahra !!!!\n",
      "Zahra !!!!\n",
      "                    zahra !!!!                    \n",
      "4\n",
      "False\n",
      "False\n",
      "False\n",
      "False\n",
      "True\n",
      "False\n",
      "False\n",
      "True\n",
      "True\n",
      "ZAHRA !!!!\n",
      "0000000000zahra !!!!\n"
     ]
    }
   ],
   "source": [
    "#Exercise 11: String Methods\n",
    "#String Methods : String methods are used to perform operations on strings\n",
    "#Find length of string\n",
    "#Strings are immutable\n",
    "#When you use a string method, it does not change the oroginal string instead it gives you a news tring\n",
    "a= \"zahra !!!!\"\n",
    "print(len(a)) #5\n",
    "print(a.upper()) #convert to upper case\n",
    "print(a.lower()) #convert to lower case\n",
    "print(a.rstrip(\"!\")) #remove the trailing characters\n",
    "print(a.lstrip(\"z\")) #remove the leading characters\n",
    "print(a.strip(\"z\")) #remove the leading and trailing characters\n",
    "print(a.find(\"z\")) #find the index of the first occurrence of the string returnss -1 if not found\n",
    "print(a.index(\"z\")) #find the index of the first occurrence of the string returns error if not found\n",
    "print(a.replace(\"!!!!\",\"Kazi\")) #replace the string with new string\n",
    "print(a.split(\" \")) #split the string into list of words\n",
    "print(a.capitalize()) #capitalize the first letter of the string\n",
    "print(a.title()) #capitalize the first letter of each word in the string\n",
    "print(a.center(50)) #center the string in the given width\n",
    "print(a.count(\"!\")) #count the number of occurrences of the string\n",
    "print(a.isalnum()) #check if the string is alphanumeric\n",
    "print(a.isalpha()) #check if the string is alphabetic\n",
    "print(a.isdigit()) #check if the string is digit\n",
    "print(a.isspace()) #check if the string is space\n",
    "print(a.islower()) #check if the string is lower case\n",
    "print(a.isupper()) #check if the string is upper case\n",
    "print(a.istitle()) #check if the string is title case\n",
    "print(a.startswith(\"z\")) #check if the string starts with the given string\n",
    "print(a.endswith(\"!\")) #check if the string ends with the given string\n",
    "print(a.swapcase()) #swap the case of the string\n",
    "print(a.zfill(20)) #pad the string with zeros on the left side\n",
    "\n"
   ]
  },
  {
   "cell_type": "code",
   "execution_count": null,
   "id": "93e06ae8",
   "metadata": {},
   "outputs": [
    {
     "name": "stdout",
     "output_type": "stream",
     "text": [
      "Conditional Statements\n",
      "You cannot drive\n",
      "I will not buy apple\n"
     ]
    }
   ],
   "source": [
    "#Exercise 12 Control Statements\n",
    "#Conditional Statements\n",
    "print(\"Conditional Statements\")\n",
    "#if-else condition\n",
    "#if statement is always a conditional operator\n",
    "#pytho always uses a indentation to show that we have entered/exited a particula block\n",
    "a= int(input(\"Enter your age:\"))\n",
    "if(a>18):  \n",
    "    print(\"You can drive\")\n",
    "else:\n",
    "    print(\"You cannot drive\")\n",
    " "
   ]
  },
  {
   "cell_type": "code",
   "execution_count": null,
   "id": "bb24a6e6",
   "metadata": {},
   "outputs": [
    {
     "name": "stdout",
     "output_type": "stream",
     "text": [
      "I might think of buying it\n"
     ]
    }
   ],
   "source": [
    "\n",
    "#elif statement: if Iwant to execute more the one if conditional statements we make use of elif\n",
    "applePrice = 100000\n",
    "budget = 100000\n",
    "if applePrice < budget:\n",
    "    print(\"I will buy apple\")\n",
    "elif applePrice == budget:\n",
    "    print(\"I might think of buying it\")\n",
    "else:\n",
    "    print(\"I will not buy apple\")"
   ]
  },
  {
   "cell_type": "code",
   "execution_count": 12,
   "id": "fc82c083",
   "metadata": {},
   "outputs": [
    {
     "name": "stdout",
     "output_type": "stream",
     "text": [
      "Number is positive and between 15-20\n"
     ]
    }
   ],
   "source": [
    "#Nested if-else, elif\n",
    "num=13\n",
    "if(num<0):\n",
    "    print(\"Number is negative\")\n",
    "   \n",
    "elif(num>0):\n",
    "     if(num<20 and num<15): \n",
    "      print(\"Number is positive and between 15-20\")\n",
    "    \n",
    "else:\n",
    "    print(\"Number is zero\")\n"
   ]
  },
  {
   "cell_type": "code",
   "execution_count": null,
   "id": "4803b4a5",
   "metadata": {},
   "outputs": [
    {
     "name": "stdout",
     "output_type": "stream",
     "text": [
      "18:53:54\n",
      "Hour: 18\n",
      "Minutes 53\n",
      "Seconds 54\n",
      "Good Afternoon\n"
     ]
    }
   ],
   "source": [
    "#Exercise 13: Nested if-else\n",
    "import time\n",
    "timestamp= time.strftime('%H:%M:%S')\n",
    "print(timestamp)\n",
    "print(\"Hour:\",time.strftime('%H'))\n",
    "print(\"Minutes\",time.strftime('%M'))\n",
    "print(\"Seconds\",time.strftime('%S'))\n",
    "Hour=int(time.strftime('%H'))\n",
    "if(Hour<12):\n",
    "    print(\"Good Morning\")\n",
    "elif(Hour<16):\n",
    "    print(\"Good Afternoon\")\n",
    "elif(Hour<=18):\n",
    "    print(\"Good Evening\")\n",
    "else:\n",
    "    print(\"Good Night\")"
   ]
  },
  {
   "cell_type": "code",
   "execution_count": null,
   "id": "d6380c90",
   "metadata": {},
   "outputs": [
    {
     "name": "stdout",
     "output_type": "stream",
     "text": [
      "x is not 90\n"
     ]
    }
   ],
   "source": [
    "#Exercise 14 Match Case Statements\n",
    "#Match Case Statements\n",
    "#Whichever case has been matched, that code run\n",
    "#here break statement is not used, in case all cases go unmatched it automatically breaks \n",
    "#we can also use if else inside these cases \n",
    "x=int(input(\"Enter a number:\"))\n",
    "match x:\n",
    "    case 0:\n",
    "        print(\"x is zero\")\n",
    "    case 4:\n",
    "        print(\"x is 4\") \n",
    "    case _ if x!=90:\n",
    "        print(\"x is not 90\")\n",
    "    case _ if x!=80:\n",
    "        print(\"x is not 80\")\n",
    "    case _:\n",
    "        print(x)"
   ]
  },
  {
   "cell_type": "code",
   "execution_count": null,
   "id": "9f955c27",
   "metadata": {},
   "outputs": [
    {
     "name": "stdout",
     "output_type": "stream",
     "text": [
      "h\n",
      "h\n",
      "Black\n",
      "White\n",
      "Blue\n",
      "Yellow\n",
      "0\n",
      "1\n",
      "2\n",
      "3\n",
      "4\n",
      "range(start,stop,step)\n",
      "1\n",
      "3\n",
      "5\n",
      "7\n",
      "9\n",
      "11\n"
     ]
    }
   ],
   "source": [
    "#Exercise 15 Loops\n",
    "#Loops in python: used to execute a group of statements number of times\n",
    "# for loop\n",
    "name = 'Abhishek'\n",
    "for i in name:\n",
    "    if(i=='h'):\n",
    "        print(i)\n",
    "\n",
    "#for loop through list\n",
    "colors = [\"Black\", \"White\", \"Blue\", \"Yellow\"]\n",
    "for color in colors:\n",
    "    print(color)\n",
    "\n",
    "#for loop using range\n",
    "#use when we want to iterate over a specific sequence, if we want a for loop a specific no iof times\n",
    "#it will stat from 0 to n-1\n",
    "for k in range(5):\n",
    "    print(k)\n",
    "#range(start,stop,step)\n",
    "print(\"range(start,stop,step)\")\n",
    "for i in range(1,12,2):\n",
    "    print(i)"
   ]
  },
  {
   "cell_type": "code",
   "execution_count": null,
   "id": "ebcac782",
   "metadata": {},
   "outputs": [
    {
     "name": "stdout",
     "output_type": "stream",
     "text": [
      "0\n",
      "1\n",
      "2\n",
      "Else with while loop\n",
      "5\n",
      "4\n",
      "3\n",
      "2\n",
      "1\n",
      "I am inside else\n",
      "44\n"
     ]
    }
   ],
   "source": [
    "#Exercise 16 While Loop\n",
    "#while loop in python, while loop executes the statements whle conditin is true\n",
    "\n",
    "i=0\n",
    "while(i<3):\n",
    "    print(i)\n",
    "    i+=1\n",
    "\n",
    "#Else with while loop, it execute as soon as the while condition becomes false\n",
    "print(\"Else with while loop\")\n",
    "count=5\n",
    "while(count>0):\n",
    "    print(count)\n",
    "    count-=1\n",
    "else:\n",
    "    print(\"I am inside else\")\n",
    "\n",
    "# do while loop\n",
    "#in python you need tomodify the while loop a bit to work like do while loop\n",
    "# execute the statement at leat once before checking the condition\n",
    "\n",
    "while True:\n",
    "    num= int(input(\"Enter a number:\"))\n",
    "    print(num)\n",
    "    if not num > 0:\n",
    "        break\n",
    "\n",
    "\n",
    "\n",
    "\n"
   ]
  },
  {
   "cell_type": "code",
   "execution_count": null,
   "id": "2522e464",
   "metadata": {},
   "outputs": [
    {
     "name": "stdout",
     "output_type": "stream",
     "text": [
      "5 x  1  =  5\n",
      "5 x  2  =  10\n",
      "5 x  3  =  15\n",
      "5 x  4  =  20\n",
      "5 x  5  =  25\n",
      "5 x  6  =  30\n",
      "5 x  7  =  35\n",
      "5 x  8  =  40\n",
      "5 x  9  =  45\n",
      "5 x  10  =  50\n"
     ]
    }
   ],
   "source": [
    "#Exercise 17 break and continue\n",
    "#break: the break statement terminates the loop there itself and come out\n",
    "for i in range(12):\n",
    "    if(i==10):\n",
    "        break\n",
    "    print(\"5 x \",i+1,\" = \",5*(i+1))"
   ]
  },
  {
   "cell_type": "code",
   "execution_count": 6,
   "id": "fd27b25b",
   "metadata": {},
   "outputs": [
    {
     "name": "stdout",
     "output_type": "stream",
     "text": [
      "5 x  1  =  5\n",
      "5 x  2  =  10\n",
      "5 x  3  =  15\n",
      "5 x  4  =  20\n",
      "5 x  5  =  25\n",
      "5 x  6  =  30\n",
      "5 x  7  =  35\n",
      "5 x  8  =  40\n",
      "5 x  9  =  45\n",
      "5 x  10  =  50\n",
      "5 x  12  =  60\n"
     ]
    }
   ],
   "source": [
    "#continue: break a particular statement from the loop and contine for remaining statements\n",
    "#i.e skip that iteraton\n",
    "for i in range(12):\n",
    "    if(i==10):\n",
    "       continue\n",
    "    print(\"5 x \",i+1,\" = \",5*(i+1))"
   ]
  },
  {
   "cell_type": "code",
   "execution_count": null,
   "id": "4f10ae8c",
   "metadata": {},
   "outputs": [
    {
     "name": "stdout",
     "output_type": "stream",
     "text": [
      "4.235294117647059\n"
     ]
    }
   ],
   "source": [
    "#Exercise 18 functions\n",
    "#Functions in python: function is a block of code that performs a specific tasks whenever it is called\n",
    "#there are two types of functions: builtin(predefined functions) and userefined(we define them using def)\n",
    "def calculateGmean(a,b):\n",
    "    mean=(a*b)/(a+b)\n",
    "    print(mean)\n",
    "\n",
    "calculateGmean(9,8)"
   ]
  },
  {
   "cell_type": "code",
   "execution_count": 4,
   "id": "391cc15c",
   "metadata": {},
   "outputs": [
    {
     "name": "stdout",
     "output_type": "stream",
     "text": [
      "4.235294117647059\n",
      "1.6363636363636365\n",
      "3.0\n",
      "2.625\n",
      "3.3157894736842106\n",
      "2.5\n",
      "2.3333333333333335\n"
     ]
    },
    {
     "data": {
      "text/plain": [
       "0.25"
      ]
     },
     "execution_count": 4,
     "metadata": {},
     "output_type": "execute_result"
    }
   ],
   "source": [
    " #Exercise 19: Functional Arguments and return satatement\n",
    "#function arguments are the values that are passed to the function when it is called\n",
    "#there 4 types of arguments: positional, keyword, default and variable length arguments\n",
    "# default arguments are the values that are passed to the function when it is called if no value is passed for that argument\n",
    "def calculateGmean(a,b=2):\n",
    "    mean=(a*b)/(a+b)\n",
    "    return mean\n",
    "a=9\n",
    "b=8\n",
    "print(calculateGmean(a,b)) #9*8/(9+8) = 72/17 = 4.235294117647059\n",
    "print(calculateGmean(9)) #9*2/(9+2) = 18/11 = 1.6363636363636365\n",
    "\n",
    "#keyword arguments: when we pass the values to the function using the name of the argument\n",
    "#this is used when we want to pass the values in any order\n",
    "def calculateGmean(a,b=2,c=3):\n",
    "    mean=(a*b)/(a+b+c)\n",
    "    return mean\n",
    "a=9\n",
    "b=8\n",
    "c=7\n",
    "print(calculateGmean(a,b,c)) #9*8/(9+8+7) = 72/24 = 3.0\n",
    "print(calculateGmean(a,c,b)) #9*7/(9+7+8) = 63/24 = 2.625\n",
    "print(calculateGmean(a,c)) #9*7/(9+7+2) = 63/18 = 3.5\n",
    "\n",
    "#required arguments: when we pass the values to the function without using the name of the argument\n",
    "#this is used when we want to pass the values in the order of the arguments\n",
    "def calculateGmean(a,b,c=1):\n",
    "    mean=(a*b)/(a+b+c)\n",
    "    return mean\n",
    "\n",
    "print(calculateGmean(5,6)) #5*6/(5+6+1) = 30/12 = 2.5\n",
    "\n",
    "#variable length arguments: when we pass the values to the function using *args and **kwargs\n",
    "#*args is used to pass a variable number of non-keyword arguments to the function  \n",
    "\n",
    "def average(*numbers):\n",
    "    sum=0\n",
    "    for i in numbers:\n",
    "        sum=sum=i\n",
    "   # print(\"Average is: \",sum/len(numbers))  or\n",
    "    return sum/len(numbers)\n",
    "print(average(5,6,7)) #average is 6.0\n",
    "\n",
    "average(5,6,7,1) #average is 4.75\n"
   ]
  },
  {
   "cell_type": "code",
   "execution_count": null,
   "id": "36044a6c",
   "metadata": {},
   "outputs": [
    {
     "name": "stdout",
     "output_type": "stream",
     "text": [
      "[23, 45, 67, 89, 'Zahra', True]\n",
      "<class 'list'>\n",
      "23\n",
      "[45, 67, 89]\n",
      "[45, 89]\n",
      "True\n",
      "23 is in the list\n"
     ]
    }
   ],
   "source": [
    "#Exercise 20 Lists\n",
    "#List in python\n",
    "#List is a collection of different types of data elements or list of items\n",
    "#List is mutable i.e we can change the elements of the list\n",
    "#List is ordered i.e the elements of the list are in a specific order\n",
    "\n",
    "marks = [23, 45, 67, 89,\"Zahra\", True,]\n",
    "print(marks) #print the list\n",
    "print(type(marks)) #print the type of the list\n",
    "print(marks[0]) #print the first element of the list\n",
    "print(marks[1:4]) #print the elements from index 1 to 4\n",
    "print(marks[1:4:2]) #print the elements from index 1 to 4 with step 2\n",
    "print(marks[-1]) #print the last element of the list\n",
    "\n",
    "if 23 in marks: #check if 23 is in the list\n",
    "    print(\"23 is in the list\")\n",
    "else:\n",
    "    print(\"23 is not in the list\")"
   ]
  },
  {
   "cell_type": "code",
   "execution_count": null,
   "id": "59efc75a",
   "metadata": {},
   "outputs": [
    {
     "name": "stdout",
     "output_type": "stream",
     "text": [
      "[0, 1, 2, 3, 4, 5]\n",
      "[0, 2, 4, 6, 8]\n"
     ]
    }
   ],
   "source": [
    "#Exercise 21 List Comprehension\n",
    "#List Comprehension\n",
    "#List comprehension is a way to create a new list from an existing list using a single line of code\n",
    "#List comprehension is used to create a new list by applying an expression to each element of the existing list\n",
    "list = [i for i in range(6)]\n",
    "print(list) #print the list\n",
    "lst =[i for i in range(10) if i%2==0] #create a new list with even numbers from 0 to 9\n",
    "print(lst) #print the list\n"
   ]
  },
  {
   "cell_type": "code",
   "execution_count": 5,
   "id": "022830a7",
   "metadata": {},
   "outputs": [
    {
     "name": "stdout",
     "output_type": "stream",
     "text": [
      "[1, 23, 4, 5, 6, 8]\n",
      "[1, 4, 5, 6, 8, 23]\n",
      "1\n",
      "[1, 2, 3, 4, 5, 6]\n",
      "[1, 2, 10, 3, 4, 5, 6]\n",
      "[1, 2, 3, 4, 5, 6]\n",
      "[1, 2, 3, 4, 5]\n",
      "[5, 4, 3, 2, 1]\n",
      "[5, 4, 3, 2, 1]\n",
      "[]\n"
     ]
    }
   ],
   "source": [
    "#Exercise 22: List Methods\n",
    "#List Methods\n",
    "#list methods are the functions that are used to perform operations on the list\n",
    "\n",
    "#append() method: adds an element to the end of the list\n",
    "l = [1,23,4,5,6]\n",
    "l.append(8)\n",
    "print(l)\n",
    "#sort() method: sorts the elements of the list in ascending order\n",
    "l.sort()\n",
    "print(l) #print the list \n",
    "\n",
    "#count() method: counts the number of occurrences of an element in the list  \n",
    "l.count(1) #count the number of occurrences of 1 in the list\n",
    "print(l.count(1)) #print the count of 1 in the list\n",
    "#extend() method: adds the elements of a list to the end of another list    \n",
    "l1 = [1,2,3]\n",
    "l2 = [4,5,6]\n",
    "l1.extend(l2) #extend the list l1 with the elements of list l2\n",
    "print(l1) #print the list l1\n",
    "#insert() method: inserts an element at a specific position in the list\n",
    "l1.insert(2, 10) #insert 10 at index 2 in the list l1\n",
    "print(l1) #print the list l1\n",
    "#remove() method: removes the first occurrence of an element from the list\n",
    "l1.remove(10) #remove 10 from the list l1\n",
    "print(l1) #print the list l1\n",
    "#pop() method: removes the last element from the list and returns it\n",
    "l1.pop() #remove the last element from the list l1\n",
    "print(l1) #print the list l1\n",
    "#reverse() method: reverses the elements of the list\n",
    "l1.reverse() #reverse the elements of the list l1\n",
    "print(l1) #print the list l1\n",
    "#copy() method: creates a shallow copy of the list\n",
    "l2 = l1.copy() #create a shallow copy of the list l1 and assign it to l2\n",
    "print(l2) #print the list l2\n",
    "#clear() method: removes all the elements from the list\n",
    "l1.clear() #remove all the elements from the list l1\n",
    "print(l1) #print the list l1\n"
   ]
  },
  {
   "cell_type": "code",
   "execution_count": null,
   "id": "1d3820ce",
   "metadata": {},
   "outputs": [
    {
     "name": "stdout",
     "output_type": "stream",
     "text": [
      "This is Tuple:  (2, 4.5, 'c', 'Mulberry', [1, 4, 66]) <class 'tuple'>\n"
     ]
    }
   ],
   "source": [
    "#Exercise 23: Tuple in python\n",
    "#Tuple is a collection of different types of data elements or list of items\n",
    "#Tuple is immutable i.e we cannot change the elements of the tuple\n",
    "#Tuple is ordered i.e the elements of the tuple are in a specific order\n",
    "#Tuple is defined using () brackets\n",
    "\n",
    "tuple1 = (2,4.5,'c',\"Mulberry\",[1, 4, 66])\n",
    "print(\"This is Tuple: \",tuple1, type(tuple1) ) #print the tuple and its type\n",
    "print(tuple1[0]) #print the first element of the tuple\n",
    "print(tuple1[1:4]) #print the elements from index 1 to 4\n",
    "print(tuple1[1:4:2]) #print the elements from index 1 to 4 with step 2\n",
    "\n",
    "#operations on tuple\n",
    "#count() method: counts the number of occurrences of an element in the tuple\n",
    "tuple1.count(2) #count the number of occurrences of 2 in the tuple\n",
    "print(tuple1.count(2)) #print the count of 2 in the tuple\n",
    "\n",
    "#index() method: returns the index of the first occurrence of an element in the tuple\n",
    "tuple1.index(2) #return the index of the first occurrence of 2 in the tuple\n",
    "\n",
    "print(tuple1.index(2)) #print the index of 2 in the tuple \n",
    "                          \n"
   ]
  },
  {
   "cell_type": "code",
   "execution_count": null,
   "id": "894a7a94",
   "metadata": {},
   "outputs": [
    {
     "name": "stdout",
     "output_type": "stream",
     "text": [
      "My name is Zahra and I am 24 years old\n"
     ]
    }
   ],
   "source": [
    "#Exercise 24: f-strings\n",
    "#f-strings: f-strings are used to format strings in python\n",
    "#f-strings are used to embed expressions inside string literals, using curly braces {}.\n",
    "name=\"Zahra\"\n",
    "age=24\n",
    "print(f\"My name is {name} and I am {age} years old\") #My name is Zahra and I am 24 years old\n",
    "#f-strings are evaluated at runtime and are a faster way to format strings than the format() method\n",
    "#f-strings are also used to format numbers, dates and other data types"
   ]
  },
  {
   "cell_type": "code",
   "execution_count": 6,
   "id": "2061e25d",
   "metadata": {},
   "outputs": [],
   "source": [
    "#Exercise 25: docstrings\n",
    "#Docstrings: docstrings are used to document the functions, classes and modules in python\n",
    "#docstrings are written inside triple quotes \"\"\" \"\"\"\n",
    "def add(a,b):\n",
    "    \"\"\"This function adds two numbers\"\"\"\n",
    "    return a+b\n",
    "#pep 8: python enhancement proposal 8 is a style guide for python code\n",
    "#pep 8 recommends using 4 spaces for indentation and using lowercase letters for variable names\n",
    "#pep 8 also recommends using underscores to separate words in variable names\n",
    "\n",
    "#zen of python: the zen of python is a collection of guiding principles for writing computer programs in python"
   ]
  },
  {
   "cell_type": "code",
   "execution_count": null,
   "id": "28b53172",
   "metadata": {},
   "outputs": [
    {
     "name": "stdout",
     "output_type": "stream",
     "text": [
      "120\n",
      "5\n"
     ]
    }
   ],
   "source": [
    "#Exercise 26 Recursion\n",
    "#recursion: recursion is a technique in which a function calls itself to solve a problem\n",
    "#recursion is used to solve problems that can be broken down into smaller subproblems\n",
    "\n",
    "def fact(n):\n",
    "    if n==0 or n==1:\n",
    "        #base case: when n is 0 or 1, return 1\n",
    "        return 1\n",
    "    else:\n",
    "        return n*fact(n-1)\n",
    "print(fact(5)) #120\n",
    "\n",
    "#fibbonachi series: the fibonacci series is a series of numbers in which each number is the sum of the two preceding ones, usually starting with 0 and 1\n",
    "def fib(n):\n",
    "    if n<=0:\n",
    "        return 0\n",
    "    elif n==1:\n",
    "        return 1\n",
    "    else:\n",
    "        return fib(n-1)+fib(n-2)\n",
    "\n",
    "print(fib(5)) "
   ]
  },
  {
   "cell_type": "code",
   "execution_count": null,
   "id": "4f1d3922",
   "metadata": {},
   "outputs": [
    {
     "name": "stdout",
     "output_type": "stream",
     "text": [
      "{19, 'color', 'red,False,5.9'}\n",
      "<class 'set'>\n",
      "19\n",
      "color\n",
      "red,False,5.9\n"
     ]
    }
   ],
   "source": [
    "#Exercise 27: Sets\n",
    "#set in python:unordered collection of data items,collection of different datatypes in curly brackets, but unique. Seta are unchangeable\n",
    "info={\"color\",19,\"red,False,5.9\"}\n",
    "print(info)\n",
    "\n",
    "basket = set()\n",
    "print(type(basket))\n",
    "\n",
    "for value in info:\n",
    "    print(value)"
   ]
  },
  {
   "cell_type": "code",
   "execution_count": null,
   "id": "94d46f5b",
   "metadata": {},
   "outputs": [
    {
     "name": "stdout",
     "output_type": "stream",
     "text": [
      "{1, 2, 3, 4, 5, 6, 7}\n",
      "{1, 2, 3, 4, 5, 6, 7} {3, 4, 7}\n",
      "{'Madrid', 'Tokyo'} {'Seoul', 'Kabul', 'Tokyo', 'Madrid'}\n",
      "False\n",
      "False\n",
      "{'Madrid', 'Tokyo', 'Japan'}\n",
      "{'Tokyo', 'Japan'}\n",
      "{1, 3, 45, 22}\n",
      "set()\n"
     ]
    }
   ],
   "source": [
    "#Exercise 28 Set Methods\n",
    "#set methods\n",
    "s1 = {1,2 ,5, 6}\n",
    "s2 = {3,4 ,7}\n",
    "\n",
    "print(s1.union(s2))\n",
    "\n",
    "s1.update(s2)\n",
    "print(s1,s2)\n",
    "\n",
    "a1= {\"Tokyo\", \"Madrid\",\"Berlin\"}\n",
    "a2= {\"Tokyo\",\"Seoul\",\"Madrid\",\"Kabul\"}\n",
    "a1.intersection_update(a2)\n",
    "print(a1,a2)#updates a1 with common values in both a1,a2\n",
    "print(a1.issuperset(a2))\n",
    "print(a2.issubset(a1))\n",
    "\n",
    "a1.add(\"Japan\")\n",
    "print(a1)\n",
    "\n",
    "a1.remove(\"Madrid\")\n",
    "print(a1)\n",
    "#a1.remove(\"Madrid\") will throw error but discard will not\n",
    "a1.discard(\"Madrid\")\n",
    "\n",
    "b ={1,3,45,22}\n",
    "print(b)\n",
    "b.clear()\n",
    "print(b)"
   ]
  },
  {
   "cell_type": "code",
   "execution_count": null,
   "id": "577e6475",
   "metadata": {},
   "outputs": [
    {
     "name": "stdout",
     "output_type": "stream",
     "text": [
      "{'name': 'Karan', 'age': 19, 'eligible': True}\n",
      "<class 'dict'>\n",
      "dict_keys(['name', 'age', 'eligible'])\n",
      "dict_values(['Karan', 19, True])\n",
      "The value corresponding to the key name is Karan\n",
      "The value corresponding to the key age is 19\n",
      "The value corresponding to the key eligible is True\n",
      "dict_items([('name', 'Karan'), ('age', 19), ('eligible', True)])\n",
      "The value corresonding to the key name is Karan\n",
      "The value corresonding to the key age is 19\n",
      "The value corresonding to the key eligible is True\n"
     ]
    }
   ],
   "source": [
    "#Exercise 29 Dictionary\n",
    "#dictionary in python\n",
    "#ordinary collection of ordered data in key-value form of mapping\n",
    "info={'name':'Karan', 'age':19, 'eligible':True}\n",
    "print(info)\n",
    "print(type(info))\n",
    "\n",
    "print(info.keys())\n",
    "print(info.values())\n",
    "\n",
    "for key in info.keys():\n",
    "    print(f\"The value corresponding to the key {key} is {info[key]}\")\n",
    "\n",
    "print(info.items())\n",
    "for key, value in info.items():\n",
    "    print(f\"The value corresonding to the key {key} is {value}\")"
   ]
  },
  {
   "cell_type": "code",
   "execution_count": null,
   "id": "35577056",
   "metadata": {},
   "outputs": [
    {
     "name": "stdout",
     "output_type": "stream",
     "text": [
      "{122: 45, 123: 89, 567: 69, 670: 90, 222: 67, 566: 90}\n",
      "{122: 45, 123: 89, 567: 69, 670: 90, 222: 67, 566: 90}\n",
      "{122: 45, 123: 89, 567: 69, 670: 90, 222: 67}\n"
     ]
    }
   ],
   "source": [
    "#Exercise 30: Dictionary Methods\n",
    "#methods in dictionary\n",
    "#update\n",
    "\n",
    "ep1 = {122:45, 123:89,567:69,670:90}\n",
    "ep2 = {222:67, 566:90}\n",
    "\n",
    "ep1.update(ep2)\n",
    "print(ep1)\n",
    "\n",
    "#clear\n",
    "#ep1.clear()\n",
    "print(ep1)\n",
    "\n",
    "#pop\n",
    "ep1.popitem()\n",
    "print(ep1)\n",
    "\n",
    "#del\n",
    "\n",
    "#del ep1\n",
    "del ep1[122]"
   ]
  },
  {
   "cell_type": "code",
   "execution_count": null,
   "id": "bab8a459",
   "metadata": {},
   "outputs": [
    {
     "name": "stdout",
     "output_type": "stream",
     "text": [
      "Sorry no i\n"
     ]
    }
   ],
   "source": [
    "#Exercise 31: Enumerate\n",
    "#else in loop\n",
    "for i in []:\n",
    "    print(i)\n",
    "    if i==4: \n",
    "     break\n",
    "else:\n",
    "    print(\"Sorry no i\")\n"
   ]
  },
  {
   "cell_type": "code",
   "execution_count": null,
   "id": "019dc142",
   "metadata": {},
   "outputs": [],
   "source": [
    "#Exercise 32 Exception Handling\n",
    "#Error Handling in python\n",
    "#Exception handling is the process of responding to unwanted or unexpected events when a computer program runs.\n",
    "#We need to handle the exception , so that our lines of code get executed\n",
    "\n",
    "a=  input(\"Enter a number:\")\n",
    "print(f\"Multiplication table of {a} is:\")\n",
    "\n",
    "for i in range(1, 11):\n",
    "    print(f\"{int(a)} X {i} = {int(a)*i}\")\n",
    "print(\"Some lines of code\")\n",
    "# Here if i entera number as input, it will print the table but if I enter a string or other datatype, it willthrow an error\n",
    " "
   ]
  },
  {
   "cell_type": "code",
   "execution_count": null,
   "id": "2eed8937",
   "metadata": {},
   "outputs": [
    {
     "name": "stdout",
     "output_type": "stream",
     "text": [
      "Multiplication table of zaa is:\n",
      "invalid literal for int() with base 10: 'zaa'\n",
      "Some lines of code\n"
     ]
    }
   ],
   "source": [
    "#Exercise 33 try and except\n",
    "# using exception handling we can handle it\n",
    "a=  input(\"Enter a number:\")\n",
    "print(f\"Multiplication table of {a} is:\")\n",
    "\n",
    "try:\n",
    "    for i in range(1, 11):\n",
    "     print(f\"{int(a)} X {i} = {int(a)*i}\")\n",
    "except Exception as e:\n",
    "   print(e)  #we are printing the error\n",
    "print(\"Some lines of code\") "
   ]
  },
  {
   "cell_type": "code",
   "execution_count": 1,
   "id": "90b4879d",
   "metadata": {},
   "outputs": [
    {
     "name": "stdout",
     "output_type": "stream",
     "text": [
      "Multiplication table of  is:\n",
      "Invalid Input!\n",
      "Some lines of code\n"
     ]
    }
   ],
   "source": [
    "# or\n",
    "a=  input(\"Enter a number:\")\n",
    "print(f\"Multiplication table of {a} is:\")\n",
    "\n",
    "try:\n",
    "    for i in range(1, 11):\n",
    "     print(f\"{int(a)} X {i} = {int(a)*i}\")\n",
    "except:\n",
    "   print(\"Invalid Input!\") \n",
    "print(\"Some lines of code\") "
   ]
  },
  {
   "cell_type": "code",
   "execution_count": null,
   "id": "874821f1",
   "metadata": {},
   "outputs": [
    {
     "name": "stdout",
     "output_type": "stream",
     "text": [
      "Number entered is not an integer\n"
     ]
    }
   ],
   "source": [
    "#Exercise 34 : value error\n",
    "#Handling ValueError\n",
    "try:\n",
    "    num= int(input(\"Enter an integer:\"))\n",
    "    print(num)\n",
    "except ValueError:\n",
    "    print(\"Number entered is not an integer\")"
   ]
  },
  {
   "cell_type": "code",
   "execution_count": null,
   "id": "242267c2",
   "metadata": {},
   "outputs": [
    {
     "name": "stdout",
     "output_type": "stream",
     "text": [
      "Index Error\n"
     ]
    }
   ],
   "source": [
    "#Exercise 35: Handling IndexError\n",
    "try:\n",
    "    num= int(input(\"Enter an index you want to search:\"))\n",
    "    a = [6, 3] #list containing 2 elements\n",
    "    print(a[num]) # index\n",
    "except IndexError: #if index exceeds then we can handle this exception\n",
    "    print(\"Index Error\")"
   ]
  },
  {
   "cell_type": "code",
   "execution_count": null,
   "id": "9bbc9044",
   "metadata": {},
   "outputs": [
    {
     "name": "stdout",
     "output_type": "stream",
     "text": [
      "Some error occurred\n",
      "I am always executed\n",
      "0\n"
     ]
    }
   ],
   "source": [
    "#Exercise 36: finally\n",
    "#finally: finally clause is also a part of exception handling. \n",
    "#This block is always executed , so it is generally used for \n",
    "# doing the concluding tasks like closing db connection or ending execution of a program by a mesage.\n",
    "def func1():\n",
    "    try:\n",
    "     l = [1, 5, 6, 7]\n",
    "     i = int(input(\"Enter the index:\"))\n",
    "     print(l[i])\n",
    "     return 1\n",
    "    except:\n",
    "     print(\"Some error occurred\")\n",
    "     return 0\n",
    "\n",
    "    finally:\n",
    "      print(\"I am always executed\")\n",
    "\n",
    "x = func1()\n",
    "print(x)"
   ]
  },
  {
   "cell_type": "code",
   "execution_count": null,
   "id": "0782e758",
   "metadata": {},
   "outputs": [
    {
     "name": "stdout",
     "output_type": "stream",
     "text": [
      "7\n"
     ]
    }
   ],
   "source": [
    "#Exercise 37: custom error\n",
    "#Custom errors: In python we can raise custom errors by using the raise keyword\n",
    "#We can raise custom errors when we want to check the validity of the input\n",
    "#For example, if we want to check if the input is between 5 and 9, we can raise a custom error\n",
    "a = int(input(\"Enter any value between 5 and 9\"))\n",
    "\n",
    "if(a<5 or a>9):\n",
    "    raise ValueError(\"Value should be between 5 and 9\")\n",
    "print(a)"
   ]
  },
  {
   "cell_type": "code",
   "execution_count": null,
   "id": "5e6fc741",
   "metadata": {},
   "outputs": [
    {
     "name": "stdout",
     "output_type": "stream",
     "text": [
      "You entered: djdj\n"
     ]
    }
   ],
   "source": [
    "#Exercise 38\n",
    "user_input = input(\"Enter a quit in small letters:\")\n",
    "if user_input == \"quit\":\n",
    "    raise SystemExit(\"Exiting the program\")   \n",
    "elif user_input == \"Quit\":\n",
    "    raise SystemExit(\"Exiting the program\") \n",
    "elif user_input == \"QUIT\":\n",
    "    raise SystemExit(\"Exiting the program\") \n",
    "else:\n",
    "    print(\"You entered:\", user_input)\n",
    "    #This will not be executed if the user enters quit in small letters\n"
   ]
  },
  {
   "cell_type": "code",
   "execution_count": null,
   "id": "3ad669a2",
   "metadata": {},
   "outputs": [],
   "source": [
    "#Exercise 39\n",
    "#creating KBC game\n",
    "questions =[ [\"Q1: Which language was used to create fb?\", \"Python\", \"Java\", \"C++\", \"JavaScript\"]\n",
    "            [\"Q2: Which language was used to create whatsapp?\", \"Python\", \"Java\", \"C++\", \"JavaScript\"],\n",
    "            [\"Q3: Which language was used to create Instagram?\", \"Python\", \"Java\", \"C++\", \"JavaScript\"],\n",
    "            [\"Q4: Which language was used to create Twitter?\", \"Python\", \"Java\", \"C++\", \"JavaScript\"],\n",
    "            [\"Q5: Which language was used to create LinkedIn?\", \"Python\", \"Java\", \"C++\", \"JavaScript\"]]\n",
    "levels =[1000, 2000, 3000, 5000, 10000, 100000, 200000, 500000, 1000000]\n",
    "lifelines = [\"50-50\", \"Ask a friend\", \"Phone a friend\"]\n",
    "lifeline_used = False\n",
    "score = 0\n",
    "for i in range(len(questions)):\n",
    "    questions = questions[i]\n",
    "    print(\"Question for Rs.\",{levels[i]})\n",
    "    print(questions[0])\n",
    "    print(\"1.\", questions[1])\n",
    "    print(\"2.\", questions[2])\n",
    "    print(\"3.\", questions[3])\n",
    "    print(\"4.\", questions[4])\n",
    "    print(\"5. Use lifeline\")\n",
    "    print(\"6. Quit\")\n",
    "    answer = input(\"Enter your answer:\")\n",
    "    if answer == \"1\":\n",
    "        print(\"Correct answer\")\n",
    "        score += levels[i]\n",
    "    elif answer == \"2\":\n",
    "        print(\"Correct answer\")\n",
    "        score += levels[i]\n",
    "    elif answer == \"3\":\n",
    "        print(\"Correct answer\")\n",
    "        score += levels[i]\n",
    "    elif answer == \"4\":\n",
    "        print(\"Correct answer\")\n",
    "        score += levels[i]\n",
    "    elif answer == \"5\":\n",
    "        if lifeline_used:\n",
    "            print(\"Lifeline already used\")\n",
    "            continue\n",
    "        else:\n",
    "            lifeline_used = True\n",
    "            print(\"Lifeline used\")\n",
    "            lifeline_answer = input(\"Enter your lifeline answer:\")\n",
    "            if lifeline_answer == questions[1] or lifeline_answer == questions[2] or lifeline_answer == questions[3] or lifeline_answer == questions[4]:\n",
    "                print(\"Correct answer\")\n",
    "                score += levels[i]\n",
    "            else:\n",
    "                print(\"Wrong answer\")\n",
    "                break\n",
    "    elif answer == \"6\":\n",
    "        print(\"You quit the game\")\n",
    "        break\n",
    "    else:\n",
    "        print(\"Invalid input\")\n",
    "print(\"Your score is:\", score)"
   ]
  },
  {
   "cell_type": "code",
   "execution_count": null,
   "id": "fa46940d",
   "metadata": {},
   "outputs": [
    {
     "name": "stdout",
     "output_type": "stream",
     "text": [
      "Secret message is:  affello zahrahcmfello zahrab\n"
     ]
    }
   ],
   "source": [
    "#Exercise 40: Secret Language\n",
    "#Writing a program to translate a message nto secret language\n",
    "#we will use the foll rule :\n",
    "#if the word contains atleast 3 characters, then we will remove the first \n",
    "# letter and append it to the end and now append 3 random letters at the \n",
    "# starting and the end \n",
    "#else : simply reverse the string*\n",
    "\n",
    "#decoding: if yhe string contains less than 3 characters, then we will reverse the string\n",
    "#else: remove random 3 letters from the start and end,remove the last 3 letters and append to the beginning .\n",
    "import random\n",
    "\n",
    "word = input(\"Enter a message:\")\n",
    "coding = True\n",
    "if(coding):\n",
    "    if len(word) < 3:\n",
    "        print(\"Secret message is: \", word[::-1])\n",
    "    else:\n",
    "        newword = []\n",
    "        for i in range(3):#appending 3 random letters at the start\n",
    "            newword.append(chr(random.randint(97, 122)))#append a ramdom letter at the start\n",
    "        newword.append(word[1:])#remove the first letter\n",
    "        newword.append(word[0])#append the first letter at the end\n",
    "        for i in range(3):#appending 3 random letters at the end\n",
    "            newword.append(chr(random.randint(97, 122)))\n",
    "        newword.append(word[1:])\n",
    "        newword.append(chr(random.randint(97, 122)))\n",
    "        print(\"Secret message is: \", \"\".join(newword))\n",
    "else:\n",
    "    #decode\n",
    "    if len(word) < 3:\n",
    "        print(\"Decoded message is: \", word[::-1])\n",
    "    else:\n",
    "        newword = []\n",
    "        for i in range(3):\n",
    "            newword.append(chr(random.randint(97, 122)))\n",
    "            \n"
   ]
  },
  {
   "cell_type": "code",
   "execution_count": null,
   "id": "450c2097",
   "metadata": {},
   "outputs": [],
   "source": [
    "#Exercise 41 : shorthand if else\n",
    "#shorthand if else \n",
    "#syntax: value_if_true if condition else value_if_false\n",
    "#it reduces the number of lines of code and makes it more readable\n",
    "#Example: x = 5, y = 10\n",
    "x = 5\n",
    "y = 10\n",
    "print(\"x is greater than y\") if x>y else print(\"y is greater than x\")\n",
    "\n",
    "a= 330\n",
    "b=3303\n",
    "print(\"A\") if a>b else print(\"B\") if a<b else print(\"A and B are equal\")"
   ]
  },
  {
   "cell_type": "code",
   "execution_count": null,
   "id": "dac360b8",
   "metadata": {},
   "outputs": [
    {
     "name": "stdout",
     "output_type": "stream",
     "text": [
      "12\n",
      "45\n",
      "67\n",
      "89\n",
      "90\n",
      "Awesome marks\n",
      "12\n",
      "45\n",
      "67\n",
      "89\n",
      "90\n",
      "Awesome marks\n"
     ]
    }
   ],
   "source": [
    "#Exercise 42: enumerate\n",
    "#Enumerate: Enumerate is a built-in function in python that \n",
    "# allows you to loop over a sequence such as a list, tuple, \n",
    "# or string and get the index of each element along with its value.\n",
    "#It returns an enumerate object, which is an iterable that\n",
    "# produces pairs of index and value.\n",
    "\n",
    "#same loop without enumerate\n",
    "marks = [12, 45, 67, 89, 90]\n",
    "for index in range(len(marks)):\n",
    "    print(marks[index])\n",
    "    if index == 4:\n",
    "        print(\"Awesome marks\")\n",
    "\n",
    "#using enumerate       \n",
    "for index, value in enumerate(marks, start=1):\n",
    "    print(value)\n",
    "    if(index == 5):\n",
    "        print(\"Awesome marks\")"
   ]
  },
  {
   "cell_type": "code",
   "execution_count": null,
   "id": "36d9662e",
   "metadata": {},
   "outputs": [],
   "source": [
    "#Exercise 43: Virtual envirnoment in Python\n",
    "\n",
    "#Virtual envirnoment can be used to create and run different packages separately\n",
    "#Virtual environment is a self-contained directory that contains\n",
    "# a Python installation for a particular version of Python, plus several additional packages.\n",
    "#It is used to create isolated Python environments for different\n",
    "# projects, so that each project can have its own dependencies,\n",
    "# regardless of what dependencies every other project has.\n",
    "#steps  to create virtual envirnoment are:\n",
    "\n",
    "#go to termial : pyton3 -m venv <name of the virtual environment>\n",
    "#to activate the virtual environment: source <name of the virtual environment>/bin/activate\n",
    "#now this venv gets activated \n",
    "#to deactivate the virtual environment: deactivate\n",
    "\n",
    "#pip freez > requirements.txt is used to create a requirements \n",
    "# file which contains all the packages and their versions that \n",
    "# are installed in the virtual environment\n",
    "\n",
    "#pip freez is used to just list down the packages installed\n"
   ]
  },
  {
   "cell_type": "code",
   "execution_count": null,
   "id": "d08eca6e",
   "metadata": {},
   "outputs": [],
   "source": [
    "#Exercise 44: importing modules\n",
    "#importing modules in python\n",
    "#Modules are files containing Python code.\n",
    "#Modules can define functions, classes and variables.\n",
    "\n",
    "#A file containing Python code, for example: mymodule.py, is called a module and its name would be mymodule.\n",
    "#Python has a built-in function called __import__() that allows you to import a module programmatically.\n",
    "#The import statement is used to import a module into your program.\n",
    "#example :\n",
    "import math\n",
    "print(math.sqrt(16)) #4.0\n",
    "print(math.pi) #3.141592653589793\n",
    "\n",
    "#The from keyword is used to import specific functions or \n",
    "#variables from a module.\n",
    "#using from keyword\n",
    "from math import sqrt, pi\n",
    "print(sqrt(16)) #4.0\n",
    "print(pi) #3.141592653589793\n",
    "\n",
    "#The as keyword is used to give a module or function a \n",
    "# different name when importing it.\n",
    "#using as keyword\n",
    "import math as m\n",
    "print(m.sqrt(16)) #4.0\n",
    "print(m.pi) #3.141592653589793\n",
    "\n",
    "#using from keyword with as keyword\n",
    "from math import sqrt as s, pi as p\n",
    "print(s(16)) #4.0\n",
    "print(p) #3.141592653589793\n",
    "\n",
    "\n",
    "\n"
   ]
  },
  {
   "cell_type": "code",
   "execution_count": null,
   "id": "809ead3a",
   "metadata": {},
   "outputs": [],
   "source": [
    "#Exercise 45: __name__ variable\n",
    "\n",
    "#The __name__ variable is a special built-in variable in Python that\n",
    "# is used to determine whether a Python script is being run as \n",
    "# the main program or if it is being imported as a module in another script.\n",
    "#When a Python script is run, the interpreter sets the __name__ variable to \"__main__\".\n",
    "#If the script is being imported as a module in another script,\n",
    "#the __name__ variable is set to the name of the module.\n",
    "#This allows you to write code that can be executed when the script is run directly,\n",
    "#but not when it is imported as a module.\n",
    "if __name__ == \"__main__\":\n",
    "    print(\"This script is being run directly\")\n",
    "else:\n",
    "    print(\"This script is being imported as a module\")\n"
   ]
  },
  {
   "cell_type": "code",
   "execution_count": null,
   "id": "7d1d8fad",
   "metadata": {},
   "outputs": [
    {
     "name": "stdout",
     "output_type": "stream",
     "text": [
      "['demo.ipynb', 'new_directory']\n",
      "['demo.ipynb', 'new_directory']\n",
      "['demo.ipynb', 'new_directory']\n",
      "['demo.ipynb', 'new_directory2']\n"
     ]
    }
   ],
   "source": [
    "#Exercise 46: os module in python\n",
    "#The os module in Python provides a way of using operating system dependent \n",
    "# functionality like reading or writing to the file system.\n",
    "#It provides a way to interact with the operating system and perform various \n",
    "# tasks such as file and directory manipulation, process management, and \n",
    "# environment variable management.\n",
    "#The os module is a built-in module in Python, so you don't need to install it separately.\n",
    "#To use the os module, you need to import it first.\n",
    "import os\n",
    "#The os.getcwd() function returns the current working directory.\n",
    "os.getcwd() #returns the current working directory\n",
    "\n",
    "#The os.listdir() function returns a list of all files and directories in the specified directory.\n",
    "os.listdir() #returns a list of all files and directories in the current working directory\n",
    "\n",
    "\n",
    "#The os.mkdir() function creates a new directory with the specified name.\n",
    "#os.mkdir(\"new_directory\") #creates a new directory with the name \"new_directory\"\n",
    "\n",
    "#list directories\n",
    "print(os.listdir()) #returns a list of all files and directories in the current working directory\n",
    "\n",
    "#os.mkdir(\"new_directory2\") #creates a new directory with the name \"new_directory2\"\n",
    "print(os.listdir())\n",
    "\n",
    "#remove directory\n",
    "#os.rmdir(\"new_directory2\") #removes the directory with the name \"new_directory2\"\n",
    "print(os.listdir()) #returns a list of all files and directories in the current working directory\n",
    "\n",
    "os.rename(\"new_directory\", \"new_directory2\") #renames the directory \"new_directory\" to \"new_directory2\"\n",
    "print(os.listdir()) #returns a list of all files and directories in the current working directory\n"
   ]
  },
  {
   "cell_type": "code",
   "execution_count": null,
   "id": "4db69e19",
   "metadata": {},
   "outputs": [
    {
     "name": "stdout",
     "output_type": "stream",
     "text": [
      "4\n",
      "THe global x is 4\n",
      "The local x is5\n",
      "Hello zahra\n",
      "The global x i 5\n",
      "6\n"
     ]
    }
   ],
   "source": [
    "#Exercise 47\n",
    "#Local and global variable in python\n",
    "#local variable:  variable defined and accessible only within a function\n",
    "#global variable: variable defined and accessible anywhere outside or from within a function\n",
    "x= 4\n",
    "print(x)\n",
    "\n",
    "def hello():\n",
    "    global z #making z global\n",
    "    x=5\n",
    "    y=1\n",
    "    z = 6 \n",
    "    print(f\"The local x is{x}\")\n",
    "    print(\"Hello zahra\")\n",
    "print(f\"THe global x is {x}\")\n",
    "hello()\n",
    "x=5\n",
    "print(f\"The global x i {x}\")\n",
    "print(z)\n"
   ]
  },
  {
   "cell_type": "code",
   "execution_count": null,
   "id": "b4beb696",
   "metadata": {},
   "outputs": [
    {
     "name": "stdout",
     "output_type": "stream",
     "text": [
      "anysthinanysthin\n"
     ]
    }
   ],
   "source": [
    "#Exercise 48: file I/O in python\n",
    "#if in write mode, if I write in such a file that does not exist then it creates that file\n",
    "#open a file:\n",
    "f = open('myfile.txt','r')\n",
    "text = f.read()\n",
    "print(text)\n",
    "f.close()\n",
    "#read mode: reads a file and creates a file if not exists\n",
    "#r mode is default mode, if no modes is specified\n",
    "#write mode\n",
    "f = open('myfile.txt','w')\n",
    "f.write(\"anysthin\")\n",
    "f.close()\n",
    "#append mode: addd text t0o end of the file\n",
    "f = open('myfile.txt','a')\n",
    "f.write(\"anysthin\")\n",
    "f.close()\n",
    "#with statement: you don't need to close file after writing in it\n",
    "\n",
    "with open('myfile.txt','a') as f:\n",
    "      f.write(\"Hey im inside with\")"
   ]
  },
  {
   "cell_type": "code",
   "execution_count": null,
   "id": "a0e9ebb7",
   "metadata": {},
   "outputs": [
    {
     "name": "stdout",
     "output_type": "stream",
     "text": [
      "Hello\n",
      "\n",
      "World\n",
      "\n",
      "Python\n",
      "\n"
     ]
    }
   ],
   "source": [
    "#Exercise 49: file methods\n",
    "#readline()\n",
    "#readlines(): reads all the lines of a file and returns a list of lines.\n",
    "f = open('myfile.txt','r')\n",
    "lines = f.readlines()\n",
    "for line in lines:\n",
    "    print(line)\n"
   ]
  },
  {
   "cell_type": "code",
   "execution_count": 2,
   "id": "4e5b2899",
   "metadata": {},
   "outputs": [],
   "source": [
    "#writeline()\n",
    "#writelines(): writes a list of lines to a file.\n",
    "f = open('myfile.txt','w')\n",
    "lines = [\"Hello\\n\", \"World\\n\", \"Python\\n\"]\n",
    "f.writelines(lines)"
   ]
  },
  {
   "cell_type": "code",
   "execution_count": null,
   "id": "49d70d3c",
   "metadata": {},
   "outputs": [
    {
     "name": "stdout",
     "output_type": "stream",
     "text": [
      "Hello\n",
      "World\n",
      "Python\n",
      "\n"
     ]
    }
   ],
   "source": [
    "#Exercise 50: functions in file handling\n",
    "#read(): reads the entire file and returns it as a string.\n",
    "f = open('myfile.txt','r')\n",
    "text = f.read()\n",
    "print(text)\n",
    "f.close()\n"
   ]
  },
  {
   "cell_type": "code",
   "execution_count": 6,
   "id": "a93d1b94",
   "metadata": {},
   "outputs": [
    {
     "name": "stdout",
     "output_type": "stream",
     "text": [
      "Hello\n",
      "\n"
     ]
    }
   ],
   "source": [
    "#readline(): reads a single line from the file and returns it as a string.\n",
    "f = open('myfile.txt','r')\n",
    "line = f.readline()\n",
    "print(line)\n",
    "f.close()"
   ]
  },
  {
   "cell_type": "code",
   "execution_count": null,
   "id": "6eb53ed8",
   "metadata": {},
   "outputs": [
    {
     "name": "stdout",
     "output_type": "stream",
     "text": [
      "ld\n",
      "Python\n",
      "\n"
     ]
    }
   ],
   "source": [
    "#Exercise 51: file pointer, seek() and tell()\n",
    "#seek(): moves the file pointer to a specific position in the file.\n",
    "#the posiotion is specified in bytes.and you can move forward or backward\n",
    "#in the file\n",
    "f = open('myfile.txt','r')  \n",
    "f.seek(10) #moves  the file pointer to the 10th byte\n",
    "text = f.read()#this will read the file from the 10th byte\n",
    "print(text)\n",
    "f.close()   "
   ]
  },
  {
   "cell_type": "code",
   "execution_count": null,
   "id": "2f173054",
   "metadata": {},
   "outputs": [
    {
     "name": "stdout",
     "output_type": "stream",
     "text": [
      "5\n"
     ]
    }
   ],
   "source": [
    "#Exercise 52: tell() and truncate()\n",
    "#tell(): returns the current position of the file pointer in bytes.\n",
    "f = open('myfile.txt','r')\n",
    "f.seek(5)#moves the file pointer to the 5th byte\n",
    "pos = f.tell() #returns the current position of the file pointer\n",
    "print(pos)\n",
    "f.close()\n",
    "#truncate(): truncates the file to a specific size.\n",
    "f = open('myfile.txt','r+')\n",
    "f.truncate(10) #truncates the file to 10 bytes\n",
    "f.close()"
   ]
  },
  {
   "cell_type": "code",
   "execution_count": null,
   "id": "e63e5ae7",
   "metadata": {},
   "outputs": [
    {
     "name": "stdout",
     "output_type": "stream",
     "text": [
      "10\n",
      "10\n",
      "125\n"
     ]
    }
   ],
   "source": [
    "#Exercise 53: lambda function\n",
    "#lambda function is a small anonymous function that can \n",
    "#take any number of arguments, but can only have one expression.\n",
    "#It is used to create small, throwaway functions that are not\n",
    "\n",
    "def double(x):\n",
    "    return x*2\n",
    "\n",
    "print(double(5)) #10\n",
    "\n",
    "#now using lambda function\n",
    "double = lambda x:x*2\n",
    "print(double(5)) #10  \n",
    "\n",
    "cube = lambda x:x**3\n",
    "print(cube(5)) #125"
   ]
  },
  {
   "cell_type": "code",
   "execution_count": null,
   "id": "93a3b145",
   "metadata": {},
   "outputs": [
    {
     "name": "stdout",
     "output_type": "stream",
     "text": [
      "[1, 8, 27, 64, 27]\n",
      "[1, 8, 27, 64, 27]\n"
     ]
    }
   ],
   "source": [
    "#Exercise: 54: map, filter and reduce in python\n",
    "#these funcitons are also called highrr order functions because\n",
    "#they take other functions as arguments and return a new function\n",
    "\n",
    "#map: map function applies a function to each element in a\n",
    "#sequence and returns a new sequence containing the transformed elements\n",
    "\n",
    "cube = lambda x:x*x*x\n",
    "#without map\n",
    "l = [1, 2, 3, 4, 3]\n",
    "newl =[]\n",
    "for item in l:\n",
    "    newl.append(cube(item))\n",
    "print(newl)\n",
    "\n",
    "#map syntax: map(function, sequence)\n",
    "#using map\n",
    "newl= list(map(cube, l))\n",
    "print(newl)"
   ]
  },
  {
   "cell_type": "code",
   "execution_count": null,
   "id": "8d289613",
   "metadata": {},
   "outputs": [
    {
     "name": "stdout",
     "output_type": "stream",
     "text": [
      "[2, 4, 6]\n"
     ]
    }
   ],
   "source": [
    "#Exercise 55: filter\n",
    "#filter function filters the elements of a sequence based on a condition\n",
    "#and returns a new sequence containing only the elements that satisfy the condition\n",
    "l= [1, 2, 3, 4, 6]\n",
    "newl = list(filter(lambda x:x%2==0, l)) #filter even numbers\n",
    "print(newl) # [2, 4]"
   ]
  },
  {
   "cell_type": "code",
   "execution_count": null,
   "id": "19db3ef7",
   "metadata": {},
   "outputs": [],
   "source": [
    "#Exercise 56: reduce\n",
    "#reduce function applies a function to the elements of a \n",
    "# sequence, but we need to import it\n",
    "from functools import reduce\n",
    "#reduce syntax: reduce(function, sequence)\n",
    "#using reduce\n",
    "l = [1, 2, 3, 4, 5]\n",
    "sum = reduce(lambda x,y:x+y, l) #sum of all elements\n",
    "print(sum) #15\n",
    "#reduce function is used to reduce the sequence to a single value"
   ]
  },
  {
   "cell_type": "code",
   "execution_count": null,
   "id": "74683663",
   "metadata": {},
   "outputs": [
    {
     "name": "stdout",
     "output_type": "stream",
     "text": [
      "False\n",
      "True\n"
     ]
    }
   ],
   "source": [
    "#Exercise 57: difference between is and == operator\n",
    "#is operator checks if two variables point to\n",
    "#  the same object in memory, i.e it compares exact\n",
    "#  memory location\n",
    "#== operator checks if two variables have the same\n",
    "#  value, ie it compares the values\n",
    "\n",
    "a = [1, 2, 3]\n",
    "b = [1, 2, 3]\n",
    "print(a is b) #False\n",
    "print(a == b) #True\n",
    "#The is operator is used to compare the identity of\n",
    "#  two objects"
   ]
  },
  {
   "cell_type": "code",
   "execution_count": null,
   "id": "c068d22e",
   "metadata": {},
   "outputs": [
    {
     "name": "stdout",
     "output_type": "stream",
     "text": [
      "Zahra is a Software Engineer and has a net worth of Software Engineer \n",
      "Karan is a Software Engineer and has a net worth of Software Engineer \n"
     ]
    }
   ],
   "source": [
    "#Exercise 58: oops in python\n",
    "\n",
    "#classes and objects\n",
    "#class is a blueprint for creating objects\n",
    "#object is an instance of a class\n",
    "#class is a collection of attributes and methods\n",
    "#class is a user-defined data structure\n",
    "#class is a template for creating objects\n",
    "#class is a blueprint for creating objects\n",
    "\n",
    "#self: self is a reference to the current instance of the class\n",
    "#self is used to access the attributes and methods of the class\n",
    "class Person:\n",
    "    name = \"Zahra\"\n",
    "    occupation = \"Software Engineer\"\n",
    "    networth = 1000000\n",
    "    def info(self):\n",
    "        print(f\"{self.name} is a {self.occupation} and has a net worth of {self.occupation} \")\n",
    "\n",
    "#creating an object of the class\n",
    "p1 = Person()\n",
    "p2 = Person()\n",
    "\n",
    "p1.name = \"Zahra\"\n",
    "p1.occupation = \"Software Engineer\"\n",
    "p1.networth = 1000000\n",
    "p1.info() #Zahra is a Software Engineer and has a net worth of 1000000\n",
    "\n",
    "p2.name = \"Karan\"\n",
    "p2.occupation = \"Software Engineer\"\n",
    "p2.networth = 1000000\n",
    "p2.info() #Karan is a Software Engineer and has a net worth of 1000000\n",
    "\n",
    "\n"
   ]
  },
  {
   "cell_type": "code",
   "execution_count": null,
   "id": "b9ba3173",
   "metadata": {},
   "outputs": [
    {
     "name": "stdout",
     "output_type": "stream",
     "text": [
      "Constructor is called\n",
      "Constructor is called\n",
      "Zahra is a Software Engineer and has a net worth of 1000000 \n",
      "Karan is a Software Engineer and has a net worth of 1000000 \n"
     ]
    }
   ],
   "source": [
    "#Exercise 59: constructor\n",
    "#constructor is a special method that is called automatically when an object is created\n",
    "#constructor is used to initialize the attributes of the class\n",
    "#constructor is used to create the object of the class\n",
    "class Person:\n",
    "    def __init__(self, name, occupation, networth):\n",
    "        print(\"Constructor is called\")\n",
    "        self.name =name\n",
    "        self.occupation = occupation\n",
    "        self.networth = networth\n",
    "    def info(self):\n",
    "        print(f\"{self.name} is a {self.occupation} and has a net worth of {self.networth} \")\n",
    "\n",
    "#creating an object of the class\n",
    "p1 = Person(\"Zahra\", \"Software Engineer\", 1000000)\n",
    "p2 = Person(\"Karan\", \"Software Engineer\", 1000000)\n",
    "p1.info() #Zahra is a Software Engineer and has a net worth of 1000000\n",
    "p2.info() #Karan is a Software Engineer and has a net worth of 1000000"
   ]
  },
  {
   "cell_type": "code",
   "execution_count": 11,
   "id": "f41230f6",
   "metadata": {},
   "outputs": [
    {
     "name": "stdout",
     "output_type": "stream",
     "text": [
      "Default constructor is called\n",
      "Zahra is a Software Engineer and has a net worth of 1000000 \n",
      "Parameterized constructor is called\n",
      "Parameterized constructor is called\n",
      "Zahra is a Software Engineer and has a net worth of 10000000 \n",
      "Pannu is a Software Engineer and has a net worth of 10000000 \n"
     ]
    }
   ],
   "source": [
    "#Exercise 60: types of constructors\n",
    "#default constructor: constructor with no arguments\n",
    "class Person:\n",
    "    def __init__(self):\n",
    "        print(\"Default constructor is called\")\n",
    "        self.name = \"Zahra\"\n",
    "        self.occupation = \"Software Engineer\"\n",
    "        self.networth = 1000000\n",
    "    def info(self):\n",
    "        print(f\"{self.name} is a {self.occupation} and has a net worth of {self.networth} \")\n",
    "\n",
    "#creating an object of the class\n",
    "p1 = Person()\n",
    "p1.info() #Zahra is a Software Engineer and has a net worth of 1000000\n",
    "\n",
    "#parameterized constructor: constructor with parameters\n",
    "#we've seen it in our previous example\n",
    "class Person:\n",
    "    def __init__(self, name, occupation, networth):\n",
    "        print(\"Parameterized constructor is called\")\n",
    "        self.name =name\n",
    "        self.occupation = occupation\n",
    "        self.networth = networth\n",
    "    def info(self):\n",
    "        print(f\"{self.name} is a {self.occupation} and has a net worth of {self.networth} \")\n",
    "#creating an object of the class\n",
    "p1 = Person(\"Zahra\", \"Software Engineer\", 10000000)\n",
    "p2 = Person(\"Pannu\", \"Software Engineer\", 10000000)  \n",
    "p1.info() \n",
    "p2.info() \n",
    "\n",
    "#copy constructor: constructor that creates a new object by copying the attributes of an existing object"
   ]
  },
  {
   "cell_type": "code",
   "execution_count": null,
   "id": "e2f8719c",
   "metadata": {},
   "outputs": [
    {
     "name": "stdout",
     "output_type": "stream",
     "text": [
      "Copy constructor is called\n",
      "Copy constructor is called\n",
      "Zahra is a Software Engineer and has a net worth of 1000000 \n",
      "Zahra is a Software Engineer and has a net worth of 1000000 \n"
     ]
    }
   ],
   "source": [
    "#Exercise 61: copy constructor\n",
    "#copy constructor: constructor that creates a new object\n",
    "# by copying the attributes of an existing object\n",
    "class Person:\n",
    "    def __init__(self, name, occupation, networth):\n",
    "        print(\"Copy constructor is called\")\n",
    "        self.name =name\n",
    "        self.occupation = occupation\n",
    "        self.networth = networth\n",
    "    def info(self):\n",
    "        print(f\"{self.name} is a {self.occupation} and has a net worth of {self.networth} \")\n",
    "#creating an object of the class\n",
    "p1 = Person(\"Zahra\", \"Software Engineer\", 1000000)\n",
    "p2 = Person(p1.name, p1.occupation, p1.networth)\n",
    "p1.info() #Zahra is a Software Engineer and has a net worth of 1000000  \n",
    "p2.info() #Zahra is a Software Engineer and has a net worth of 1000000\n"
   ]
  },
  {
   "cell_type": "code",
   "execution_count": null,
   "id": "d7028aad",
   "metadata": {},
   "outputs": [
    {
     "name": "stdout",
     "output_type": "stream",
     "text": [
      "Good Morning\n",
      "Hello Zahra\n",
      "Thanks for using this function\n",
      "Good Morning\n",
      "The sum of 5 and 6 is 11\n",
      "Thanks for using this function\n"
     ]
    }
   ],
   "source": [
    "#Exercise 62: decorators in python\n",
    "#decorators are functions that modify the behavior of another function\n",
    "#decorators are used to add functionality to an existing function without modifying its structure\n",
    "\n",
    "#args and kwargs\n",
    "#args: *args is used to pass a variable number of \n",
    "# non-keyword arguments to a function\n",
    "#kwargs: **kwargs is used to pass a variable number of\n",
    "#  keyword arguments to a function\n",
    "\n",
    "def greet(fx):\n",
    "    def mfx(*args, **kwargs):\n",
    "        print(\"Good Morning\")\n",
    "        fx(*args, **kwargs)\n",
    "        print(\"Thanks for using this function\")\n",
    "    return mfx\n",
    "\n",
    "@greet\n",
    "def hello(name):\n",
    "    print(f\"Hello {name}\")\n",
    "hello(\"Zahra\") #Good Morning\n",
    "#Hello Zahra\n",
    "\n",
    "@greet\n",
    "def add(a, b):\n",
    "    print(f\"The sum of {a} and {b} is {a+b}\")\n",
    "\n",
    "add(5, 6) #Good Morning\n",
    "\n",
    "     \n"
   ]
  },
  {
   "cell_type": "code",
   "execution_count": 12,
   "id": "8bfca278",
   "metadata": {},
   "outputs": [
    {
     "name": "stdout",
     "output_type": "stream",
     "text": [
      "Name: Zahra\n",
      "ID: 101\n",
      "Name: Pannu\n",
      "ID: 102\n",
      "Default language is Python\n"
     ]
    }
   ],
   "source": [
    "#Exercise 63: inheritance in python\n",
    "#inheritance is the process of acquiring the properties \n",
    "#and methods of a parent class by a child class\n",
    "#When a class is derived from another class, the child\n",
    "#class will inherit all the public and protected properties \n",
    "# and methodsfrom the parent class.\n",
    "\n",
    "class Employee:\n",
    "    def __init__(self, name, id):\n",
    "        self.name = name\n",
    "        self.id=id\n",
    "\n",
    "    def showDetails(self):\n",
    "        print(f\"Name: {self.name}\")\n",
    "        print(f\"ID: {self.id}\")\n",
    "\n",
    "class Programmer(Employee):\n",
    "    def showLanguage(self):\n",
    "        print(\"Default language is Python\")\n",
    "\n",
    "e1 = Employee(\"Zahra\", 101)\n",
    "e1.showDetails() #Name: Zahra\n",
    "e2 = Programmer(\"Pannu\", 102)\n",
    "e2.showDetails() \n",
    "e2.showLanguage() #Default language is Python\n",
    "\n"
   ]
  },
  {
   "cell_type": "code",
   "execution_count": 13,
   "id": "ee792054",
   "metadata": {},
   "outputs": [
    {
     "name": "stdout",
     "output_type": "stream",
     "text": [
      "Name: Zahra\n",
      "ID: 101\n",
      "Salary: 100000\n",
      "Name: Pannu\n",
      "ID: 102\n",
      "Salary: 100000\n",
      "Default language is Python\n",
      "Salary: 100000\n"
     ]
    }
   ],
   "source": [
    "#Exercise 64: Access Modifiers\n",
    "#In python we generally don't have access modifiers\n",
    "#but we can use single underscore and double underscore \n",
    "#Access modifiers are used to set the visibility of class members\n",
    "#There are three types of access modifiers in Python:\n",
    "#Public: Public members are accessible from outside the class\n",
    "#Private: Private members are accessible only within the class\n",
    "#Protected: Protected members are accessible only within the class and its subclasses\n",
    "\n",
    "#name mangling\n",
    "#Name mangling is a technique used to make the private members of a class inaccessible from outside the class\n",
    "#Name mangling is done by prefixing the member name with two underscores\n",
    "class Employee:\n",
    "    def __init__(self, name, id):\n",
    "        self.name = name\n",
    "        self.id=id\n",
    "        self.__salary = 100000 #private member\n",
    "\n",
    "    def showDetails(self):\n",
    "        print(f\"Name: {self.name}\")\n",
    "        print(f\"ID: {self.id}\")\n",
    "        print(f\"Salary: {self.__salary}\")\n",
    "\n",
    "class Programmer(Employee):\n",
    "    def showLanguage(self):\n",
    "        print(\"Default language is Python\")\n",
    "        #print(f\"Salary: {self.__salary}\") #will throw error\n",
    "        print(f\"Salary: {self._Employee__salary}\") #will not throw error\n",
    "        #accessing private member using name mangling\n",
    "e1 = Employee(\"Zahra\", 101)\n",
    "e1.showDetails() #Name: Zahra\n",
    "e2 = Programmer(\"Pannu\", 102)\n",
    "e2.showDetails() #Name: Pannu\n",
    "e2.showLanguage() #Default language is Python\n",
    "#Salary: 100000\n",
    "#Salary: 100000\n",
    "\n",
    "\n"
   ]
  },
  {
   "cell_type": "code",
   "execution_count": null,
   "id": "60717e3c",
   "metadata": {},
   "outputs": [
    {
     "name": "stdout",
     "output_type": "stream",
     "text": [
      "5\n",
      "11\n",
      "9\n",
      "9\n"
     ]
    }
   ],
   "source": [
    "#Exercise 65: Static methods in python\n",
    "#they don't belong to instance as wel as the class\n",
    "#static methods are used when we don't need class instance methods\n",
    "#we don't need to call self.arg_name\n",
    "#no need to create object for calling static methods, tey can b ecalled using class name\n",
    "\n",
    "class Math:\n",
    "    def __init__(self, num):\n",
    "        self.num = num\n",
    "\n",
    "    def addtonum(self, n):\n",
    "     self.num = self.num + n\n",
    " \n",
    " #creating static method\n",
    "    @staticmethod   #static method decorator\n",
    "    def add(a,b):\n",
    "      return a + b\n",
    "\n",
    "a = Math(5)\n",
    "print(a.num)\n",
    "a.addtonum(6) #calling instance method\n",
    "print(a.num)\n",
    "\n",
    "print(Math.add(7,2)) #calling static method\n",
    "print(a.add(7,2))"
   ]
  },
  {
   "cell_type": "code",
   "execution_count": null,
   "id": "bb5d1c4f",
   "metadata": {},
   "outputs": [
    {
     "name": "stdout",
     "output_type": "stream",
     "text": [
      "The name of the Emloyee is Harry and the raise amount in Apple India is 0.3\n",
      "Google\n",
      "The name of the Emloyee is Harry and the raise amount in Apple India is 0.3\n",
      "The name of the Emloyee is Zahra and the raise amount in Google India is 0.4\n"
     ]
    }
   ],
   "source": [
    "#Exercise 66: Difference between instance variable and class variable\n",
    "#We use instance variable when we need to accociate a property with any\n",
    "# particular ovject\n",
    "#We use class variable , when we want to create a variable for a class that will share\n",
    "# all the instances\n",
    "\n",
    "class Employee:\n",
    "    companyName = \"Apple\"\n",
    "    def __init__(self, name):\n",
    "        self.name = name\n",
    "        self.raise_amount = 0.02\n",
    "    def showDetails(self):\n",
    "        print(f\"The name of the Emloyee is {self.name} and the raise amount in {self.companyName} is {self.raise_amount}\")\n",
    "\n",
    "# Employee.showDetails(emp1)\n",
    "emp1 = Employee(\"Harry\")\n",
    "emp1.raise_amount = 0.3\n",
    "emp1.companyName = \"Apple India\"\n",
    "emp1.showDetails() #The name of the Emloyee is Harry and the raise amount in Apple India is 0.3\n",
    "Employee.companyName = \"Google\" #changing the class variable\n",
    "\n",
    "print(Employee.companyName) #Google\n",
    "emp1.showDetails() #The name of the Emloyee is Harry and the raise amount in Google is 0.3\n",
    "\n",
    "emp2 = Employee(\"Zahra\")\n",
    "emp2.raise_amount = 0.4\n",
    "emp2.companyName = \"Google India\"\n",
    "emp2.showDetails() #The name of the Emloyee is Zahra and the raise amount in Google India is 0.4\n",
    "\n",
    "\n"
   ]
  },
  {
   "cell_type": "code",
   "execution_count": null,
   "id": "4a2251ec",
   "metadata": {},
   "outputs": [
    {
     "name": "stdout",
     "output_type": "stream",
     "text": [
      "The name is harry and company  is Apple\n",
      "The name is harry and company  is Tesla\n",
      "Tesla\n"
     ]
    }
   ],
   "source": [
    "#Exercise 67: class methods in python\n",
    "#classes are a way to represent custom data types in python\n",
    "#class methods are bound to the class and not the instance of the class.\n",
    "\n",
    "class Employee:\n",
    "    company = \"Apple\"\n",
    "    def show(self):\n",
    "        print(f\"The name is {self.name} and company  is {self.company}\")\n",
    "\n",
    "  # def changeCompany(self, newCompany): \n",
    "    # self.company = newCompany  #op is Apple\n",
    "\n",
    "    @classmethod \n",
    "#here instead of self we can write any variable and it changes the class methods\n",
    "    def changeCompany(cls, newCompany): \n",
    "        cls.company = newCompany   #op is Tesla\n",
    "    \n",
    "e1 = Employee()\n",
    "e1.name = \"harry\"\n",
    "e1.show()\n",
    "e1.changeCompany(\"Tesla\")\n",
    "e1.show()\n",
    "print(Employee.company)\n",
    "#The class method is used to change the class variable"
   ]
  },
  {
   "cell_type": "code",
   "execution_count": null,
   "id": "d4819530",
   "metadata": {},
   "outputs": [
    {
     "name": "stdout",
     "output_type": "stream",
     "text": [
      "Zahra\n",
      "100000\n",
      "Karan\n",
      "200000\n"
     ]
    }
   ],
   "source": [
    "#Exercise 68: how to use class methods as alternative constructors\n",
    "class Employee:\n",
    "    def __init__(self, name, salary): #just initializing the instance variables\n",
    "        self.name = name\n",
    "        self.salary = salary\n",
    "\n",
    "    @classmethod\n",
    "    def fromStr(cls, string): #im parsing a particular format data\n",
    "        return cls(string.split(\"-\")[0], string.split(\"-\")[1])\n",
    "        #str.split(\"-\") splits the string into a list of strings\n",
    "        #and returns the first and second element of the list as name and salary\n",
    "e1 = Employee(\"Zahra\", 100000)\n",
    "print(e1.name)\n",
    "print(e1.salary)\n",
    "\n",
    "e2 = Employee.fromStr(\"Karan-200000\")\n",
    "print(e2.name)  \n",
    "print(e2.salary)\n",
    "\n"
   ]
  },
  {
   "cell_type": "code",
   "execution_count": null,
   "id": "1e68ebb7",
   "metadata": {},
   "outputs": [],
   "source": [
    "#Exercise 69: object introspection\n",
    "#Object introspection is the ability to examine the properties and methods\n",
    "# of an object at runtime and how it could be used.\n",
    "\n",
    "#dir() function\n",
    "#The dir() function returns a list of all the attributes and methods of an object.\n",
    "x = [1, 2, 3]\n",
    "print(dir(x)) #returns a list of all the attributes and methods of the list object\n",
    "\n",
    "#__ dict __\n",
    "#The __dict__ attribute returns a dictionary containing the attributes and \n",
    "# methods of an object.\n",
    "class Person:\n",
    "    def __init__(self, name, age):\n",
    "        self.name = name\n",
    "        self.age = age\n",
    "        self.version = 1.0\n",
    "p = Person(\"Zahra\", 24)\n",
    "print(p.__dict__) #returns a dictionary containing the attributes and methods of the object\n",
    "#The __dict__ attribute is used to access the attributes and methods of an object\n",
    "\n",
    "#help() function\n",
    "#The help() function is used to display the documentation of an object.\n",
    "#The help() function returns the docstring of an object.\n",
    "class Person:\n",
    "    \"\"\"This is a person class\"\"\"\n",
    "    def __init__(self, name, age):\n",
    "        self.name = name\n",
    "        self.age = age\n",
    "        self.version = 1.0\n",
    "p = Person(\"Zahra\", 24)\n",
    "print(help(p)) #returns the docstring of the object"
   ]
  },
  {
   "cell_type": "code",
   "execution_count": null,
   "id": "99bf9a8b",
   "metadata": {},
   "outputs": [
    {
     "name": "stdout",
     "output_type": "stream",
     "text": [
      "Parent constructor is called\n",
      "Parent class method is called\n",
      "Parent constructor is called\n",
      "Child constructor is called\n",
      "Parent class method is called\n",
      "Child class method is called\n"
     ]
    }
   ],
   "source": [
    "#Exercise 70: super keyword in python\n",
    "#if parent and child class have same method name, then the child class \n",
    "# method will be called by default\n",
    "#but if we want to call the parent class method, we can use the super keyword\n",
    "class Parent:\n",
    "    def __init__(self):\n",
    "        print(\"Parent constructor is called\")\n",
    "    def show(self):\n",
    "        print(\"Parent class method is called\")\n",
    "class Child(Parent):\n",
    "    def __init__(self):\n",
    "        super().__init__() #calling the parent class constructor\n",
    "        print(\"Child constructor is called\")\n",
    "    def show(self):\n",
    "        super().show()#calling the parent class method\n",
    "        print(\"Child class method is called\")\n",
    "\n",
    "p = Parent()\n",
    "p.show() #Parent constructor is called\n",
    "c = Child()\n",
    "c.show() #Parent constructor is called"
   ]
  },
  {
   "cell_type": "code",
   "execution_count": null,
   "id": "74e7c969",
   "metadata": {},
   "outputs": [
    {
     "name": "stdout",
     "output_type": "stream",
     "text": [
      "Kartik\n",
      "6\n"
     ]
    }
   ],
   "source": [
    "#Exercise 71: Magic methods in python\n",
    "#Magic methods are special methods that are used to define the behavior of \n",
    "#objects in python\n",
    "\n",
    "class Employee:\n",
    "    name= \"Kartik\"\n",
    "    def __len__(self):\n",
    "        i=0\n",
    "        for c in self.name:\n",
    "            i+=1\n",
    "        return i\n",
    "    \n",
    "e = Employee()\n",
    "print(e.name) #Kartik\n",
    "print(len(e)) #5\n",
    "#The __len__ method is used to define the behavior of the len() function\n",
    "#The __str__ method is used to define the behavior of the str() function\n",
    "#The __repr__ method is used to define the behavior of the repr() function"
   ]
  },
  {
   "cell_type": "code",
   "execution_count": 14,
   "id": "6cb42b3d",
   "metadata": {},
   "outputs": [
    {
     "name": "stdout",
     "output_type": "stream",
     "text": [
      "78.5\n"
     ]
    }
   ],
   "source": [
    "#Exercise 72: Method overriding in python\n",
    "#Method overriding is the process of redefining a method in a child class\n",
    "#that is already defined in the parent class\n",
    "#Method overriding is used to provide a specific implementation of a method\n",
    "#that is already defined in the parent class\n",
    "\n",
    "class Shape:\n",
    "    def __init__(self,x,y):\n",
    "        self.x = x\n",
    "        self.y = y\n",
    "    def area(self):\n",
    "        return self.x * self.y\n",
    "    \n",
    "class Circle(Shape):\n",
    "    def __init__(self, radius):\n",
    "        self.radius=radius\n",
    "        super().__init__(radius, radius)\n",
    "    def area(self):\n",
    "        return 3.14 * super().area() #calling the parent class method\n",
    "    \n",
    "c = Circle(5)\n",
    "print(c.area()) #78.5\n",
    "\n"
   ]
  },
  {
   "cell_type": "code",
   "execution_count": 27,
   "id": "03dbdafa",
   "metadata": {},
   "outputs": [
    {
     "name": "stdout",
     "output_type": "stream",
     "text": [
      "300000\n",
      "Zahra has a salary of 100000\n",
      "Pannu has a salary of 200000\n",
      "Vector(3, 5, 6)\n",
      "Vector(1, 2, 9)\n",
      "Vector addition:  Vector(4, 7, 15)\n",
      "Vector subtraction:  Vector(2, 3, -3)\n",
      "Vector multiplication:  Vector(3, 10, 54)\n"
     ]
    }
   ],
   "source": [
    "#Exercise 73: Operator overloading in python\n",
    "#Operator overloading is the process of defining the behavior of operators\n",
    "#for user-defined classes\n",
    "\n",
    "#Example: + operator\n",
    "class Employee:\n",
    "    def __init__(self, name, salary):\n",
    "        self.name = name\n",
    "        self.salary = salary\n",
    "    def __add__(self, other):\n",
    "        return self.salary + other.salary\n",
    "    def __str__(self):\n",
    "        return f\"{self.name} has a salary of {self.salary}\"\n",
    "    def __repr__(self):\n",
    "        return f\"{self.name} has a salary of {self.salary}\"\n",
    "\n",
    "e1 = Employee(\"Zahra\", 100000)\n",
    "e2 = Employee(\"Pannu\", 200000)\n",
    "print(e1 + e2) #300000\n",
    "print(e1) #Zahra has a salary of 100000\n",
    "print(e2) #Pannu has a salary of 200000\n",
    "#The __add__ method is used to define the behavior of the + operator\n",
    "#The __str__ method is used to define the behavior of the str() function    \n",
    "#The __repr__ method is used to define the behavior of the repr() function\n",
    "\n",
    "class Vector:\n",
    "    def __init__(self, i, j, k):\n",
    "        self.i = i\n",
    "        self.j = j\n",
    "        self.k = k\n",
    "    def __str__(self):\n",
    "        return f\"Vector({self.i}, {self.j}, {self.k})\"\n",
    "    def __add__(self,x):\n",
    "        return Vector(self.i + x.i, self.j+ x.j, self.k+x.k)\n",
    "    def __sub__(self,x):\n",
    "        return Vector(self.i - x.i, self.j- x.j, self.k-x.k)\n",
    "    def __mul__(self,x):\n",
    "        return Vector(self.i * x.i, self.j* x.j, self.k*x.k)\n",
    "    \n",
    "v1 = Vector(3, 5, 6)\n",
    "print(v1) #3\n",
    "v2 = Vector(1, 2, 9)\n",
    "print(v2) #1\n",
    "print(\"Vector addition: \", v1 + v2) #Vector(4, 7, 15)\n",
    "print(\"Vector subtraction: \", v1 - v2)\n",
    "print(\"Vector multiplication: \", v1 * v2)\n",
    "\n",
    "\n",
    "    "
   ]
  },
  {
   "cell_type": "code",
   "execution_count": null,
   "id": "82d9a3ab",
   "metadata": {},
   "outputs": [
    {
     "name": "stdout",
     "output_type": "stream",
     "text": [
      "Name: Tommy\n",
      "Breed: Labrador\n",
      "Color: Black\n",
      "Bark\n"
     ]
    }
   ],
   "source": [
    "#Exercise 74: Single inheritance\n",
    "\n",
    "#Single inheritance is the process of acquiring the properties\n",
    "#and methods of a single parent class by a child class\n",
    "\n",
    "class Animal:\n",
    "    def __init__(self, name, breed):\n",
    "        self.name= name\n",
    "        self.breed = breed\n",
    "\n",
    "class Dog(Animal):\n",
    "    def __init__(self, name, breed, color):\n",
    "        super().__init__(name, breed)\n",
    "        self.color = color\n",
    "    def showDetails(self):\n",
    "        print(f\"Name: {self.name}\")\n",
    "        print(f\"Breed: {self.breed}\")\n",
    "        print(f\"Color: {self.color}\")\n",
    "    def makeSound(self):\n",
    "        print(\"Bark\")\n",
    "\n",
    "d = Dog(\"Tommy\", \"Labrador\", \"Black\")\n",
    "d.showDetails()\n",
    "d.makeSound() \n"
   ]
  }
 ],
 "metadata": {
  "kernelspec": {
   "display_name": "Python 3",
   "language": "python",
   "name": "python3"
  },
  "language_info": {
   "codemirror_mode": {
    "name": "ipython",
    "version": 3
   },
   "file_extension": ".py",
   "mimetype": "text/x-python",
   "name": "python",
   "nbconvert_exporter": "python",
   "pygments_lexer": "ipython3",
   "version": "3.13.2"
  }
 },
 "nbformat": 4,
 "nbformat_minor": 5
}
